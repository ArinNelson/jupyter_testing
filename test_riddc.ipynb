# First, run these in the command line:
# pip install jupyterlab
# pip install netcdf4
# pip install matplotlib
# jupyter-lab

import netCDF4 as nc
import numpy as np
%matplotlib widget
import matplotlib.pyplot as plt

# OSOM data on RIDDC is in 2 files, a grid file and a data file
grid_url  = ('https://pricaimcit.services.brown.edu/erddap/griddap/model_data_949c_d20a_81a7')
data_url  = ('https://pricaimcit.services.brown.edu/erddap/griddap/model_data_57db_4a85_81d9')
grid_file = nc.Dataset(grid_url)
data_file = nc.Dataset(data_url)

# Get grid lon-lat and last instance of sst
x    = grid_file["longitude"]
y    = grid_file["latitude"]
temp = data_file["WaterTempSurface"][17521,0:1100,0:1000]

# Potential alternative: https://github.com/widgetti/ipyvolume

# Plot sst
#fig = plt.figure()
#ax = plt.axes(projection='3d')
#ax.plot_surface(x, y, temp, cmap='viridis', edgecolor='none')
plt.contourf(temp,100)
